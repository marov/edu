{
 "cells": [
  {
   "cell_type": "markdown",
   "metadata": {},
   "source": [
    "# Book Giveaway!\n",
    "\n",
    "### This is not lab a but a way to connect with me and my book: _\"Cloud Native Machine Learning\"_ from Manning Publishers.\n",
    "\n",
    "<div><br/><a href=\"https://livebook.manning.com/book/cloud-native-machine-learning/chapter-1/v-4/\"><img src=\"https://i.imgur.com/Scoue6I.jpg\"></img></a></div>"
   ]
  },
  {
   "cell_type": "markdown",
   "metadata": {},
   "source": [
    "# You can get 40% off Early Access Preview ebook version here: https://www.manning.com/books/cloud-native-machine-learning?a_aid=osipov&a_bid=fa913283 using discount code **osipov40**"
   ]
  },
  {
   "cell_type": "markdown",
   "metadata": {},
   "source": [
    "# Or participate in a giveaway to win a **FREE** ebook subscription by completing the following tasks:\n",
    "\n",
    "The more shares/likes your posts ges, the higher your chances to win in the giveaway. I tally up the new followers, posts, shares, and likes every other Friday. You are going to be contacted if you win a **FREE** ebook subscription!"
   ]
  },
  {
   "cell_type": "markdown",
   "metadata": {},
   "source": [
    "# Spread The Word On LinkedIn"
   ]
  },
  {
   "cell_type": "code",
   "execution_count": null,
   "metadata": {},
   "outputs": [],
   "source": [
    "%%html\n",
    "\n",
    "<script src=\"https://platform.linkedin.com/in.js\" type=\"text/javascript\">lang: en_US</script>\n",
    "<script type=\"IN/Share\" data-url=\"https://www.linkedin.com/posts/kosipov_datascience-machinelearning-cloud-activity-6712695168740548609-a0Rc\"></script>"
   ]
  },
  {
   "cell_type": "markdown",
   "metadata": {},
   "source": [
    "## _Click The \"Share\" _ AND__ Click \"Share in a post\" in the popup window"
   ]
  },
  {
   "cell_type": "markdown",
   "metadata": {},
   "source": [
    "# Follow Me On Twitter"
   ]
  },
  {
   "cell_type": "code",
   "execution_count": null,
   "metadata": {},
   "outputs": [],
   "source": [
    "%%html\n",
    "\n",
    "<a href=\"https://twitter.com/CloudsWithCarl\" class=\"twitter-follow-button\" data-size=\"large\" data-lang=\"en\" data-show-count=\"false\">Follow @CloudsWithCarl</a>\n",
    "<script async src=\"https://platform.twitter.com/widgets.js\" charset=\"utf-8\"></script>"
   ]
  },
  {
   "cell_type": "markdown",
   "metadata": {},
   "source": [
    "## _Click The \"Follow\" Button ^^ Above ^^_"
   ]
  },
  {
   "cell_type": "code",
   "execution_count": null,
   "metadata": {},
   "outputs": [],
   "source": [
    "%%html\n",
    "\n",
    "<script src=\"https://platform.linkedin.com/in.js\" type=\"text/javascript\"> lang: en_US</script>\n",
    "<script type=\"IN/kosipov\" data-id=\"1337\" data-counter=\"bottom\"></script>"
   ]
  },
  {
   "cell_type": "markdown",
   "metadata": {},
   "source": [
    "# Follow Me On Github"
   ]
  },
  {
   "cell_type": "code",
   "execution_count": null,
   "metadata": {},
   "outputs": [],
   "source": [
    "%%html\n",
    "\n",
    "<!-- Place this tag where you want the button to render. -->\n",
    "<a class=\"github-button\" href=\"https://github.com/osipov\" aria-label=\"Follow @osipov on GitHub\">Follow @osipov</a>\n",
    "\n",
    "<!-- Place this tag in your head or just before your close body tag. -->\n",
    "<script async defer src=\"https://buttons.github.io/buttons.js\"></script>"
   ]
  },
  {
   "cell_type": "markdown",
   "metadata": {},
   "source": [
    "## _Click The \"Follow\" Button ^^ Above ^^_"
   ]
  }
 ],
 "metadata": {
  "kernelspec": {
   "display_name": "Python 3",
   "language": "python",
   "name": "python3"
  },
  "language_info": {
   "codemirror_mode": {
    "name": "ipython",
    "version": 3
   },
   "file_extension": ".py",
   "mimetype": "text/x-python",
   "name": "python",
   "nbconvert_exporter": "python",
   "pygments_lexer": "ipython3",
   "version": "3.8.5"
  }
 },
 "nbformat": 4,
 "nbformat_minor": 4
}
