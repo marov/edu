{
  "nbformat": 4,
  "nbformat_minor": 0,
  "metadata": {
    "kernelspec": {
      "display_name": "Python 3",
      "language": "python",
      "name": "python3"
    },
    "language_info": {
      "codemirror_mode": {
        "name": "ipython",
        "version": 3
      },
      "file_extension": ".py",
      "mimetype": "text/x-python",
      "name": "python",
      "nbconvert_exporter": "python",
      "pygments_lexer": "ipython3",
      "version": "3.7.3"
    },
    "colab": {
      "name": "Solution_Pandas.ipynb",
      "provenance": [],
      "collapsed_sections": []
    }
  },
  "cells": [
    {
      "cell_type": "markdown",
      "metadata": {
        "id": "ToBRy8I1TcgV",
        "colab_type": "text"
      },
      "source": [
        "## **TODO:** Set the value of `URL` to the URL from your learning materials"
      ]
    },
    {
      "cell_type": "code",
      "metadata": {
        "id": "EClN0oyvTfdm",
        "colab_type": "code",
        "colab": {}
      },
      "source": [
        "URL = None\n",
        "import os\n",
        "assert URL and (type(URL) is str), \"Be sure to initialize URL using the value from your learning materials\"\n",
        "os.environ['URL'] = URL"
      ],
      "execution_count": 0,
      "outputs": []
    },
    {
      "cell_type": "code",
      "metadata": {
        "id": "WXkv6YhsTgow",
        "colab_type": "code",
        "colab": {}
      },
      "source": [
        "%%bash\n",
        "wget -q $URL -O ./data.zip\n",
        "mkdir -p data\n",
        "find *.zip | xargs unzip -o -d data/"
      ],
      "execution_count": 0,
      "outputs": []
    },
    {
      "cell_type": "markdown",
      "metadata": {
        "id": "XZrG0EYmTbdD",
        "colab_type": "text"
      },
      "source": [
        "# Exercise: Pandas"
      ]
    },
    {
      "cell_type": "markdown",
      "metadata": {
        "id": "r0XTIBR1TbdE",
        "colab_type": "text"
      },
      "source": [
        "## To get started we'll need  __`pandas`__"
      ]
    },
    {
      "cell_type": "code",
      "metadata": {
        "id": "774pBF2uTbdF",
        "colab_type": "code",
        "colab": {}
      },
      "source": [
        "import pandas as pd"
      ],
      "execution_count": 0,
      "outputs": []
    },
    {
      "cell_type": "markdown",
      "metadata": {
        "id": "xmqH_t56TbdI",
        "colab_type": "text"
      },
      "source": [
        "## Read the Consumer Complaints data file named __`data/Consumer_Complaints.csv`__ into a DataFrame"
      ]
    },
    {
      "cell_type": "code",
      "metadata": {
        "id": "mAzXlMGUTbdJ",
        "colab_type": "code",
        "colab": {}
      },
      "source": [
        "data = pd.read_csv('data/Consumer_Complaints.csv')"
      ],
      "execution_count": 0,
      "outputs": []
    },
    {
      "cell_type": "markdown",
      "metadata": {
        "id": "iHYkhDGtTbdM",
        "colab_type": "text"
      },
      "source": [
        "## Determine the shape of the DataFrame"
      ]
    },
    {
      "cell_type": "code",
      "metadata": {
        "id": "70MJpvoZTbdM",
        "colab_type": "code",
        "colab": {}
      },
      "source": [
        "data.shape"
      ],
      "execution_count": 0,
      "outputs": []
    },
    {
      "cell_type": "markdown",
      "metadata": {
        "id": "I0PavZqyTbdQ",
        "colab_type": "text"
      },
      "source": [
        "## Investigate the first few rows of the DataFrame and find out what columns are present"
      ]
    },
    {
      "cell_type": "code",
      "metadata": {
        "id": "YMkMUwvZTbdR",
        "colab_type": "code",
        "colab": {}
      },
      "source": [
        "data.head()"
      ],
      "execution_count": 0,
      "outputs": []
    },
    {
      "cell_type": "markdown",
      "metadata": {
        "id": "g7GZBZctTbdU",
        "colab_type": "text"
      },
      "source": [
        "## How many consumer complaints are there per state?"
      ]
    },
    {
      "cell_type": "code",
      "metadata": {
        "id": "T24zQXqHTbdU",
        "colab_type": "code",
        "colab": {}
      },
      "source": [
        "data['State'].value_counts()"
      ],
      "execution_count": 0,
      "outputs": []
    },
    {
      "cell_type": "markdown",
      "metadata": {
        "id": "qFivgVIjTbdX",
        "colab_type": "text"
      },
      "source": [
        "## What ZIP code has the highest number of complaints?"
      ]
    },
    {
      "cell_type": "code",
      "metadata": {
        "id": "1GmPF1l9TbdY",
        "colab_type": "code",
        "colab": {}
      },
      "source": [
        "data['ZIP code'].value_counts()[:1]"
      ],
      "execution_count": 0,
      "outputs": []
    },
    {
      "cell_type": "markdown",
      "metadata": {
        "id": "DMQoAt5NTbdc",
        "colab_type": "text"
      },
      "source": [
        "## What are the top five products for complaints?"
      ]
    },
    {
      "cell_type": "code",
      "metadata": {
        "id": "9k4E_fkETbdc",
        "colab_type": "code",
        "colab": {}
      },
      "source": [
        "data['Product'].value_counts()[:5]"
      ],
      "execution_count": 0,
      "outputs": []
    },
    {
      "cell_type": "markdown",
      "metadata": {
        "id": "hegjtdzvTbdf",
        "colab_type": "text"
      },
      "source": [
        "## What are the top five states for consumer complaints?"
      ]
    },
    {
      "cell_type": "code",
      "metadata": {
        "id": "New-NHeUTbdf",
        "colab_type": "code",
        "colab": {}
      },
      "source": [
        "data['State'].value_counts()[:5]"
      ],
      "execution_count": 0,
      "outputs": []
    },
    {
      "cell_type": "markdown",
      "metadata": {
        "id": "qaCCCrh-Tbdi",
        "colab_type": "text"
      },
      "source": [
        "## What is potentially misleading about these results? \n",
        "* We can solve this problem by normalizing the results against population data.\n",
        "* Our complaints database doesn't have this information though, so, let's read the information from the file __`data/states.csv`__ into a DataFrame"
      ]
    },
    {
      "cell_type": "code",
      "metadata": {
        "id": "Ph8xWPCOTbdj",
        "colab_type": "code",
        "colab": {}
      },
      "source": [
        "states = pd.read_csv('data/states.csv')\n",
        "states"
      ],
      "execution_count": 0,
      "outputs": []
    },
    {
      "cell_type": "markdown",
      "metadata": {
        "id": "3Gx09Fl-Tbdm",
        "colab_type": "text"
      },
      "source": [
        "## Investigate the first few rows of the DataFrame"
      ]
    },
    {
      "cell_type": "code",
      "metadata": {
        "id": "1S23AMTKTbdo",
        "colab_type": "code",
        "colab": {}
      },
      "source": [
        "states.head()"
      ],
      "execution_count": 0,
      "outputs": []
    },
    {
      "cell_type": "markdown",
      "metadata": {
        "id": "7377W8BUTbdq",
        "colab_type": "text"
      },
      "source": [
        "## The __`Count`__ column is irrelevant, so...\n",
        "* Create a new DataFrame with only the 'Abbrev' and 'Population' columns"
      ]
    },
    {
      "cell_type": "code",
      "metadata": {
        "id": "7sWMWFuLTbdq",
        "colab_type": "code",
        "colab": {}
      },
      "source": [
        "states = states[['Abbrev', 'Population']]\n",
        "states"
      ],
      "execution_count": 0,
      "outputs": []
    },
    {
      "cell_type": "markdown",
      "metadata": {
        "id": "uOcOsfLWTbdt",
        "colab_type": "text"
      },
      "source": [
        "## We're going to want to merge the DataFrames on the two-letter abbreviation\n",
        "* This is called __`State`__ in the first data set so make sure the second dataset has the correct column names"
      ]
    },
    {
      "cell_type": "code",
      "metadata": {
        "id": "NFR4pDeTTbdt",
        "colab_type": "code",
        "colab": {}
      },
      "source": [
        "states.columns = ['State', 'Population']\n",
        "states"
      ],
      "execution_count": 0,
      "outputs": []
    },
    {
      "cell_type": "code",
      "metadata": {
        "id": "AKBg5GWfTbdw",
        "colab_type": "code",
        "colab": {}
      },
      "source": [
        "data = pd.merge(data, states, on='State')\n",
        "data.head()"
      ],
      "execution_count": 0,
      "outputs": []
    },
    {
      "cell_type": "markdown",
      "metadata": {
        "id": "AuUGs3rFTbdz",
        "colab_type": "text"
      },
      "source": [
        "## Generate a new DataFrame that contains the number of  complaints per state and keeps track of those counts"
      ]
    },
    {
      "cell_type": "code",
      "metadata": {
        "id": "sGWSQmSATbd0",
        "colab_type": "code",
        "colab": {}
      },
      "source": [
        "by_state = pd.DataFrame(data['State'].value_counts().reset_index())\n",
        "by_state.columns = 'State Count'.split()"
      ],
      "execution_count": 0,
      "outputs": []
    },
    {
      "cell_type": "code",
      "metadata": {
        "scrolled": true,
        "id": "U_H2_SN_Tbd2",
        "colab_type": "code",
        "colab": {}
      },
      "source": [
        "by_state"
      ],
      "execution_count": 0,
      "outputs": []
    },
    {
      "cell_type": "markdown",
      "metadata": {
        "id": "Ux6Xb1GYTbd5",
        "colab_type": "text"
      },
      "source": [
        "## Merge the __`by_state`__ DataFrame and the states DataFrame on the __`State`__ column\n",
        "* Since there are U.S. territories in one of the datasets and not the other, we have some NaN results–get rid of those"
      ]
    },
    {
      "cell_type": "code",
      "metadata": {
        "id": "bVbIGpOZTbd6",
        "colab_type": "code",
        "colab": {}
      },
      "source": [
        "merged = pd.merge(by_state, states, on='State').dropna()"
      ],
      "execution_count": 0,
      "outputs": []
    },
    {
      "cell_type": "markdown",
      "metadata": {
        "id": "dNEMROQ0Tbd8",
        "colab_type": "text"
      },
      "source": [
        "## Inspect the first few rows to ensure it worked properly"
      ]
    },
    {
      "cell_type": "code",
      "metadata": {
        "id": "A33CbGHHTbd9",
        "colab_type": "code",
        "colab": {}
      },
      "source": [
        "merged.head()"
      ],
      "execution_count": 0,
      "outputs": []
    },
    {
      "cell_type": "markdown",
      "metadata": {
        "id": "Q4gH7biFTbd_",
        "colab_type": "text"
      },
      "source": [
        "## Normalize the Population\n",
        "1. Divide the counts column by the __`Population`__ \n",
        "* Store the result in a new columnn called 'population_normalized'"
      ]
    },
    {
      "cell_type": "code",
      "metadata": {
        "id": "9k2Uf1T9Tbd_",
        "colab_type": "code",
        "colab": {}
      },
      "source": [
        "merged['population_normalized'] = merged['Count'] / merged['Population']"
      ],
      "execution_count": 0,
      "outputs": []
    },
    {
      "cell_type": "markdown",
      "metadata": {
        "id": "SOHDAoLbTbeB",
        "colab_type": "text"
      },
      "source": [
        "## Check out the first few rows of the data to make sure it looks like you expect"
      ]
    },
    {
      "cell_type": "code",
      "metadata": {
        "id": "IlTX7449TbeC",
        "colab_type": "code",
        "colab": {}
      },
      "source": [
        "merged.head()"
      ],
      "execution_count": 0,
      "outputs": []
    },
    {
      "cell_type": "markdown",
      "metadata": {
        "id": "46BeZLw5TbeE",
        "colab_type": "text"
      },
      "source": [
        "## What are the top 10 states for complaints based upon raw counts?"
      ]
    },
    {
      "cell_type": "code",
      "metadata": {
        "id": "nZgXZfj1TbeE",
        "colab_type": "code",
        "colab": {}
      },
      "source": [
        "merged.sort_values('Count', ascending=False)[:10]"
      ],
      "execution_count": 0,
      "outputs": []
    },
    {
      "cell_type": "markdown",
      "metadata": {
        "id": "sjajCpkyTbeM",
        "colab_type": "text"
      },
      "source": [
        "## What are the top 10 states for complaints normalized by population?"
      ]
    },
    {
      "cell_type": "code",
      "metadata": {
        "id": "I-lJV9IMTbeM",
        "colab_type": "code",
        "colab": {}
      },
      "source": [
        "merged.sort_values('population_normalized', ascending=False)[:10]"
      ],
      "execution_count": 0,
      "outputs": []
    }
  ]
}