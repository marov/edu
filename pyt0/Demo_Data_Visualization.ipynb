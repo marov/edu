{
  "nbformat": 4,
  "nbformat_minor": 0,
  "metadata": {
    "kernelspec": {
      "display_name": "Python 3",
      "language": "python",
      "name": "python3"
    },
    "language_info": {
      "codemirror_mode": {
        "name": "ipython",
        "version": 3
      },
      "file_extension": ".py",
      "mimetype": "text/x-python",
      "name": "python",
      "nbconvert_exporter": "python",
      "pygments_lexer": "ipython3",
      "version": "3.7.3"
    },
    "colab": {
      "name": "Demo_Data_Visualization.ipynb",
      "provenance": [],
      "collapsed_sections": []
    }
  },
  "cells": [
    {
      "source": [
        "<a href=\"https://colab.research.google.com/github/osipov/edu/blob/master/pyt0/Demo_Data_Visualization.ipynb\" target=\"_blank\"><img src=\"https://colab.research.google.com/assets/colab-badge.svg\"/></a>"
      ],
      "cell_type": "markdown",
      "metadata": {}
    },
    {
      "cell_type": "markdown",
      "metadata": {
        "id": "siUqusLXMUC8",
        "colab_type": "text"
      },
      "source": [
        "# Data Visualization\n"
      ]
    },
    {
      "cell_type": "code",
      "metadata": {
        "id": "sSgD6EI6MUC9",
        "colab_type": "code",
        "colab": {}
      },
      "source": [
        "%matplotlib inline"
      ],
      "execution_count": 0,
      "outputs": []
    },
    {
      "cell_type": "code",
      "metadata": {
        "id": "sK5iw4b2MUDB",
        "colab_type": "code",
        "colab": {}
      },
      "source": [
        "import torch as pt\n",
        "import matplotlib.pyplot as plt\n",
        "\n",
        "x = pt.linspace(0, 10, 100)\n",
        "\n",
        "fig = plt.figure()\n",
        "plt.plot(x, pt.sin(x), '-')\n",
        "plt.plot(x, pt.cos(x), '--')\n",
        "plt.show() # not needed in notebook, but needed in production"
      ],
      "execution_count": 0,
      "outputs": []
    },
    {
      "cell_type": "markdown",
      "metadata": {
        "id": "fi_ThyrOMUDG",
        "colab_type": "text"
      },
      "source": [
        "## You can save your plots..."
      ]
    },
    {
      "cell_type": "code",
      "metadata": {
        "id": "ZIPOXM52MUDG",
        "colab_type": "code",
        "colab": {}
      },
      "source": [
        "fig.savefig('my_figure.png')"
      ],
      "execution_count": 0,
      "outputs": []
    },
    {
      "cell_type": "code",
      "metadata": {
        "id": "wAx0VquQMUDK",
        "colab_type": "code",
        "colab": {}
      },
      "source": [
        "!ls -lh my_figure.png\n",
        "# For Windows, comment out the above and replace with below\n",
        "# On Windows, comment out above and uncomment below\n",
        "#!dir my_figure.png\""
      ],
      "execution_count": 0,
      "outputs": []
    },
    {
      "cell_type": "markdown",
      "metadata": {
        "id": "3gKRew0yMUDN",
        "colab_type": "text"
      },
      "source": [
        "## ...and reload saved images for display inside the notebook"
      ]
    },
    {
      "cell_type": "code",
      "metadata": {
        "id": "ks1JjHdTMUDN",
        "colab_type": "code",
        "colab": {}
      },
      "source": [
        "from IPython.display import Image\n",
        "Image('my_figure.png')"
      ],
      "execution_count": 0,
      "outputs": []
    },
    {
      "cell_type": "code",
      "metadata": {
        "id": "6ylXKnfHMUDQ",
        "colab_type": "code",
        "colab": {}
      },
      "source": [
        "# matplotlib supports many different file types\n",
        "fig.canvas.get_supported_filetypes()"
      ],
      "execution_count": 0,
      "outputs": []
    },
    {
      "cell_type": "markdown",
      "metadata": {
        "id": "f_nZEfK4MUDT",
        "colab_type": "text"
      },
      "source": [
        "## MATLAB-Style Interface"
      ]
    },
    {
      "cell_type": "code",
      "metadata": {
        "id": "owt1SDyrMUDU",
        "colab_type": "code",
        "colab": {}
      },
      "source": [
        "plt.figure()  # create a plot figure\n",
        "\n",
        "# create the first of two panels and set current axis\n",
        "plt.subplot(2, 1, 1) # (rows, columns, panel number)\n",
        "plt.plot(x, pt.sin(x))\n",
        "\n",
        "# create the second panel and set current axis\n",
        "plt.subplot(2, 1, 2)\n",
        "plt.plot(x, pt.cos(x));"
      ],
      "execution_count": 0,
      "outputs": []
    },
    {
      "cell_type": "markdown",
      "metadata": {
        "id": "2phnD21BMUDZ",
        "colab_type": "text"
      },
      "source": [
        "## Grids"
      ]
    },
    {
      "cell_type": "code",
      "metadata": {
        "id": "Etp3E8qdMUDZ",
        "colab_type": "code",
        "colab": {}
      },
      "source": [
        "plt.style.use('seaborn-whitegrid')\n",
        "fig = plt.figure()\n",
        "ax = plt.axes()"
      ],
      "execution_count": 0,
      "outputs": []
    },
    {
      "cell_type": "markdown",
      "metadata": {
        "id": "dRZ0M7mqMUDc",
        "colab_type": "text"
      },
      "source": [
        "## Draw a Function"
      ]
    },
    {
      "cell_type": "code",
      "metadata": {
        "id": "YDDbKR4_MUDc",
        "colab_type": "code",
        "colab": {}
      },
      "source": [
        "plt.style.use('seaborn-whitegrid')\n",
        "fig = plt.figure()\n",
        "ax = plt.axes()\n",
        "x = pt.linspace(0, 10, 1000)\n",
        "ax.plot(x, pt.sin(x));"
      ],
      "execution_count": 0,
      "outputs": []
    },
    {
      "source": [
        "## Specify axes limits...\n"
      ],
      "cell_type": "markdown",
      "metadata": {}
    },
    {
      "cell_type": "code",
      "metadata": {
        "id": "LWkfd6R6MUDl",
        "colab_type": "code",
        "colab": {}
      },
      "source": [
        "plt.plot(x, pt.sin(x))\n",
        "\n",
        "plt.xlim(-1, 11)\n",
        "plt.ylim(-1.5, 1.5);"
      ],
      "execution_count": 0,
      "outputs": []
    },
    {
      "cell_type": "markdown",
      "metadata": {
        "id": "mqrHHPfEMUDp",
        "colab_type": "text"
      },
      "source": [
        "## Flipping the Axes Limits"
      ]
    },
    {
      "cell_type": "code",
      "metadata": {
        "id": "dG7u8TkVMUDp",
        "colab_type": "code",
        "colab": {}
      },
      "source": [
        "plt.plot(x, pt.sin(x))\n",
        "\n",
        "plt.xlim(10, 0)\n",
        "plt.ylim(1.2, -1.2);"
      ],
      "execution_count": 0,
      "outputs": []
    },
    {
      "cell_type": "markdown",
      "metadata": {
        "id": "I4l6XXaWMUDs",
        "colab_type": "text"
      },
      "source": [
        "## Axis"
      ]
    },
    {
      "cell_type": "code",
      "metadata": {
        "id": "qp-UfXibMUDs",
        "colab_type": "code",
        "colab": {}
      },
      "source": [
        "plt.plot(x, pt.sin(x))\n",
        "plt.axis([-1, 11, -1.5, 1.5]);"
      ],
      "execution_count": 0,
      "outputs": []
    },
    {
      "cell_type": "markdown",
      "metadata": {
        "id": "hadPH5R6MUDv",
        "colab_type": "text"
      },
      "source": [
        "## ...or let matplotlib \"tighten\" the axes..."
      ]
    },
    {
      "cell_type": "code",
      "metadata": {
        "id": "aYuVGNBxMUDv",
        "colab_type": "code",
        "colab": {}
      },
      "source": [
        "plt.plot(x, pt.sin(x))\n",
        "plt.axis('tight');"
      ],
      "execution_count": 0,
      "outputs": []
    },
    {
      "cell_type": "markdown",
      "metadata": {
        "id": "CRxSmRgsMUDy",
        "colab_type": "text"
      },
      "source": [
        "## ...or make the limits equal"
      ]
    },
    {
      "cell_type": "code",
      "metadata": {
        "id": "SW-zKsKrMUDy",
        "colab_type": "code",
        "colab": {}
      },
      "source": [
        "plt.plot(x, pt.sin(x))\n",
        "plt.axis('equal');"
      ],
      "execution_count": 0,
      "outputs": []
    },
    {
      "cell_type": "markdown",
      "metadata": {
        "id": "QFYSLiPOMUD0",
        "colab_type": "text"
      },
      "source": [
        "## Add titles and axis labels"
      ]
    },
    {
      "cell_type": "code",
      "metadata": {
        "id": "XUTwU3q9MUD1",
        "colab_type": "code",
        "colab": {}
      },
      "source": [
        "plt.plot(x, pt.sin(x))\n",
        "plt.title(\"A Sine Curve\")\n",
        "plt.xlabel(\"x\")\n",
        "plt.ylabel(\"sin(x)\");"
      ],
      "execution_count": 0,
      "outputs": []
    },
    {
      "cell_type": "markdown",
      "metadata": {
        "id": "oY_8PiQGMUD3",
        "colab_type": "text"
      },
      "source": [
        "## ...and a legend"
      ]
    },
    {
      "cell_type": "code",
      "metadata": {
        "id": "fzrxpDfoMUD3",
        "colab_type": "code",
        "colab": {}
      },
      "source": [
        "plt.plot(x, pt.sin(x), '-g', label='sin(x)')\n",
        "plt.plot(x, pt.cos(x), ':b', label='cos(x)')\n",
        "plt.axis('equal')\n",
        "\n",
        "plt.legend();"
      ],
      "execution_count": 0,
      "outputs": []
    },
    {
      "cell_type": "markdown",
      "metadata": {
        "id": "BDjUQ1rhMUDW",
        "colab_type": "text"
      },
      "source": [
        "## Object-Oriented Interface"
      ]
    },
    {
      "cell_type": "code",
      "execution_count": null,
      "metadata": {},
      "outputs": [],
      "source": [
        "# First create a grid of plots\n",
        "# ax will be an array of two Axes objects\n",
        "fig, ax = plt.subplots(2)\n",
        "\n",
        "# Call plot() method on the appropriate object\n",
        "ax[0].plot(x, pt.sin(x))\n",
        "ax[1].plot(x, pt.cos(x));"
      ]
    },
    {
      "cell_type": "markdown",
      "metadata": {
        "id": "ZhNu51S1MUD6",
        "colab_type": "text"
      },
      "source": [
        "## OO interface to axes"
      ]
    },
    {
      "cell_type": "code",
      "metadata": {
        "id": "_E0OFAERMUD6",
        "colab_type": "code",
        "colab": {}
      },
      "source": [
        "ax = plt.axes()\n",
        "ax.plot(x, pt.sin(x))\n",
        "ax.set(xlim=(0, 10), ylim=(-2, 2),\n",
        "       xlabel='x', ylabel='sin(x)',\n",
        "       title='A Simple Plot');"
      ],
      "execution_count": 0,
      "outputs": []
    },
    {
      "cell_type": "markdown",
      "metadata": {
        "id": "pjpFlZYdMUD8",
        "colab_type": "text"
      },
      "source": [
        "## Interface Differences\n",
        "| MATLAB-Style | OO Style        |\n",
        "|--------------|-----------------|\n",
        "| plt.xlabel() | ax.set_xlabel() |\n",
        "| plt.ylabel() | ax.set_ylabel() |\n",
        "| plt.xlim()   | ax.set_xlim()   |\n",
        "| plt.ylim()   | ax.set_ylim()   |\n",
        "| plt.title()  | ax.set_title()  |"
      ]
    },
    {
      "source": [
        "## Custom legends"
      ],
      "cell_type": "markdown",
      "metadata": {}
    },
    {
      "cell_type": "code",
      "execution_count": null,
      "metadata": {},
      "outputs": [],
      "source": [
        "x = pt.linspace(0, 10, 1000)\n",
        "\n",
        "plt.style.use('classic')\n",
        "plt.figure(figsize=(12,6))\n",
        "\n",
        "plt.rc('xtick', labelsize=20)\n",
        "plt.rc('ytick', labelsize=20)\n",
        "\n",
        "fig, ax = plt.subplots()\n",
        "ax.plot(x, pt.sin(x), '-b', label='Sine')\n",
        "ax.plot(x, pt.cos(x), '--r', label='Cosine')\n",
        "ax.axis('equal')\n",
        "leg = ax.legend()"
      ]
    },
    {
      "cell_type": "code",
      "execution_count": null,
      "metadata": {},
      "outputs": [],
      "source": [
        "ax.legend(loc='upper left', frameon=False)\n",
        "fig"
      ]
    },
    {
      "cell_type": "code",
      "execution_count": null,
      "metadata": {},
      "outputs": [],
      "source": [
        "ax.legend(frameon=False, loc='lower center', ncol=2)\n",
        "fig"
      ]
    },
    {
      "source": [
        "## Many ways to specify color..."
      ],
      "cell_type": "markdown",
      "metadata": {}
    },
    {
      "cell_type": "code",
      "execution_count": null,
      "metadata": {},
      "outputs": [],
      "source": [
        "plt.plot(x, pt.sin(x - 0), color='blue')        # specify color by name\n",
        "plt.plot(x, pt.sin(x - 1), color='g')           # short color code (rgbcmyk)\n",
        "plt.plot(x, pt.sin(x - 2), color='0.75')        # Grayscale between 0 and 1\n",
        "plt.plot(x, pt.sin(x - 3), color='#FFDD44')     # Hex code (RRGGBB from 00 to FF)\n",
        "plt.plot(x, pt.sin(x - 4), color=(1.0,0.2,0.3)) # RGB tuple, values 0 to 1\n",
        "plt.plot(x, pt.sin(x - 5), color='chartreuse'); # all HTML color names supported"
      ]
    },
    {
      "source": [
        "## Specifying different line styles..."
      ],
      "cell_type": "markdown",
      "metadata": {}
    },
    {
      "cell_type": "code",
      "execution_count": null,
      "metadata": {},
      "outputs": [],
      "source": [
        "plt.plot(x, x + 0, linestyle='solid')\n",
        "plt.plot(x, x + 1, linestyle='dashed')\n",
        "plt.plot(x, x + 2, linestyle='dashdot')\n",
        "plt.plot(x, x + 3, linestyle='dotted');\n",
        "\n",
        "# For short, you can use the following codes:\n",
        "plt.plot(x, x + 4, linestyle='-')  # solid\n",
        "plt.plot(x, x + 5, linestyle='--') # dashed\n",
        "plt.plot(x, x + 6, linestyle='-.') # dashdot\n",
        "plt.plot(x, x + 7, linestyle=':');  # dotted"
      ]
    },
    {
      "cell_type": "markdown",
      "metadata": {
        "id": "eDum8gc4MUD9",
        "colab_type": "text"
      },
      "source": [
        "## Specify different plot markers "
      ]
    },
    {
      "cell_type": "code",
      "metadata": {
        "id": "I_FiBvGPMUD9",
        "colab_type": "code",
        "colab": {}
      },
      "source": [
        "rnd1 = pt.manual_seed(0)\n",
        "rnd2 = pt.manual_seed(1)\n",
        "for marker in 'o.,x+v^<>sd':\n",
        "    plt.plot(pt.rand(5, generator = rnd1), pt.rand(5, generator = rnd2), marker,\n",
        "             label='marker={}'.format(marker))\n",
        "plt.legend(numpoints=1)\n",
        "plt.xlim(0, 1.8);"
      ],
      "execution_count": 0,
      "outputs": []
    },
    {
      "cell_type": "markdown",
      "metadata": {
        "id": "KTHRO7EaMUEA",
        "colab_type": "text"
      },
      "source": [
        "## Scatterplots with Colors and Sizes"
      ]
    },
    {
      "cell_type": "code",
      "metadata": {
        "id": "MyhSYXlQMUEA",
        "colab_type": "code",
        "colab": {}
      },
      "source": [
        "pt.manual_seed(0);\n",
        "x = pt.randn(100)\n",
        "y = pt.randn(100)\n",
        "colors = pt.rand(100)\n",
        "sizes = 1000 * pt.rand(100)\n",
        "\n",
        "plt.scatter(x, y, c=colors, s=sizes, alpha=0.3,\n",
        "            cmap='viridis')\n",
        "plt.colorbar();  # show color scale"
      ],
      "execution_count": 0,
      "outputs": []
    },
    {
      "cell_type": "markdown",
      "metadata": {
        "id": "dIinyOuhMUEC",
        "colab_type": "text"
      },
      "source": [
        "## Visualizing Multiple Dimensions"
      ]
    },
    {
      "cell_type": "code",
      "metadata": {
        "id": "Y_5gUOb-MUED",
        "colab_type": "code",
        "colab": {}
      },
      "source": [
        "from sklearn.datasets import load_iris\n",
        "iris = load_iris()\n",
        "features = iris.data.T\n",
        "\n",
        "plt.scatter(features[0], features[1], alpha=0.2,\n",
        "            s=100*features[3], c=iris.target, cmap='viridis')\n",
        "plt.xlabel(iris.feature_names[0])\n",
        "plt.ylabel(iris.feature_names[1]);"
      ],
      "execution_count": 0,
      "outputs": []
    },
    {
      "cell_type": "markdown",
      "metadata": {
        "id": "SECIpnuYMUEF",
        "colab_type": "text"
      },
      "source": [
        "## Histograms"
      ]
    },
    {
      "cell_type": "code",
      "metadata": {
        "id": "stuX9uJhMUEF",
        "colab_type": "code",
        "colab": {}
      },
      "source": [
        "data = pt.randn(10000)\n",
        "plt.hist(data);"
      ],
      "execution_count": 0,
      "outputs": []
    },
    {
      "cell_type": "code",
      "metadata": {
        "id": "aBocieyuMUEH",
        "colab_type": "code",
        "colab": {}
      },
      "source": [
        "plt.hist(data, bins=30, alpha=0.5,\n",
        "         histtype='stepfilled', color='steelblue',\n",
        "         edgecolor='none')"
      ],
      "execution_count": 0,
      "outputs": []
    },
    {
      "cell_type": "markdown",
      "metadata": {
        "id": "tTn1IXBOMUEQ",
        "colab_type": "text"
      },
      "source": [
        "## Display a grid of images"
      ]
    },
    {
      "cell_type": "code",
      "metadata": {
        "id": "pTzuNF2DMUER",
        "colab_type": "code",
        "colab": {}
      },
      "source": [
        "# load images of the digits 0 through 5 and visualize several of them\n",
        "from sklearn.datasets import load_digits\n",
        "digits = load_digits(n_class=6)\n",
        "\n",
        "fig, ax = plt.subplots(8, 8, figsize=(6, 6))\n",
        "for i, axi in enumerate(ax.flat):\n",
        "    axi.imshow(digits.images[i], cmap='binary')\n",
        "    axi.set(xticks=[], yticks=[])"
      ],
      "execution_count": 0,
      "outputs": []
    },
    {
      "cell_type": "markdown",
      "metadata": {
        "id": "nb4Yna5rMm1X",
        "colab_type": "text"
      },
      "source": [
        "Copyright 2020 CounterFactual.AI LLC. Licensed under the Apache License, Version 2.0 (the \"License\"); you may not use this file except in compliance with the License. You may obtain a copy of the License at http://www.apache.org/licenses/LICENSE-2.0 Unless required by applicable law or agreed to in writing, software distributed under the License is distributed on an \"AS IS\" BASIS, WITHOUT WARRANTIES OR CONDITIONS OF ANY KIND, either express or implied. See the License for the specific language governing permissions and limitations under the License."
      ]
    }
  ]
}