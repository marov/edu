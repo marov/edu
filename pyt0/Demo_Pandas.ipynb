{
  "nbformat": 4,
  "nbformat_minor": 0,
  "metadata": {
    "kernelspec": {
      "display_name": "Python 3",
      "language": "python",
      "name": "python3"
    },
    "language_info": {
      "codemirror_mode": {
        "name": "ipython",
        "version": 3
      },
      "file_extension": ".py",
      "mimetype": "text/x-python",
      "name": "python",
      "nbconvert_exporter": "python",
      "pygments_lexer": "ipython3",
      "version": "3.7.3"
    },
    "colab": {
      "name": "Demo_Pandas.ipynb",
      "provenance": [],
      "collapsed_sections": []
    }
  },
  "cells": [
    {
      "cell_type": "markdown",
      "metadata": {
        "id": "KWSBFMfzTHE6",
        "colab_type": "text"
      },
      "source": [
        "## **TODO:** Set the value of `URL` to the URL from your learning materials"
      ]
    },
    {
      "cell_type": "code",
      "metadata": {
        "id": "hk9SzKCMTJep",
        "colab_type": "code",
        "colab": {}
      },
      "source": [
        "URL = None\n",
        "import os\n",
        "assert URL and (type(URL) is str), \"Be sure to initialize URL using the value from your learning materials\"\n",
        "os.environ['URL'] = URL"
      ],
      "execution_count": 0,
      "outputs": []
    },
    {
      "cell_type": "code",
      "metadata": {
        "id": "nEy22YInTK0G",
        "colab_type": "code",
        "colab": {}
      },
      "source": [
        "%%bash\n",
        "wget -q $URL -O ./data.zip\n",
        "mkdir -p data\n",
        "find *.zip | xargs unzip -o -d data/"
      ],
      "execution_count": 0,
      "outputs": []
    },
    {
      "cell_type": "markdown",
      "metadata": {
        "id": "pHP_O-SZTGF0",
        "colab_type": "text"
      },
      "source": [
        "# Demo - Pandas"
      ]
    },
    {
      "cell_type": "code",
      "metadata": {
        "id": "I_Qs4276TGF1",
        "colab_type": "code",
        "colab": {}
      },
      "source": [
        "import pandas as pd\n",
        "data = pd.Series([0.25, 0.5, 0.75, 1.0])\n",
        "data"
      ],
      "execution_count": 0,
      "outputs": []
    },
    {
      "cell_type": "code",
      "metadata": {
        "id": "DrOfJgPhTGF6",
        "colab_type": "code",
        "colab": {}
      },
      "source": [
        "# view raw values\n",
        "data.values"
      ],
      "execution_count": 0,
      "outputs": []
    },
    {
      "cell_type": "code",
      "metadata": {
        "id": "Z6K2qQjNTGF9",
        "colab_type": "code",
        "colab": {}
      },
      "source": [
        "# view index\n",
        "data.index"
      ],
      "execution_count": 0,
      "outputs": []
    },
    {
      "cell_type": "code",
      "metadata": {
        "id": "-_MBe1bhTGGB",
        "colab_type": "code",
        "colab": {}
      },
      "source": [
        "# we can index, just like a standard Python list\n",
        "data[1]"
      ],
      "execution_count": 0,
      "outputs": []
    },
    {
      "cell_type": "code",
      "metadata": {
        "id": "4lb2JuUlTGGF",
        "colab_type": "code",
        "colab": {}
      },
      "source": [
        "# Because index is a RangeIndex, we can do\n",
        "# normal slicing from offset 1 to offset 2\n",
        "# \n",
        "data[::-1]"
      ],
      "execution_count": 0,
      "outputs": []
    },
    {
      "cell_type": "code",
      "metadata": {
        "id": "Hk9_k30fTGGI",
        "colab_type": "code",
        "colab": {}
      },
      "source": [
        "# create a series with non-integer indices\n",
        "data = pd.Series([0.25, 0.5, 0.75, 1.0], index=['a', 'b', 'c', 'd'])"
      ],
      "execution_count": 0,
      "outputs": []
    },
    {
      "cell_type": "code",
      "metadata": {
        "id": "w49eo5dsTGGL",
        "colab_type": "code",
        "colab": {}
      },
      "source": [
        "data"
      ],
      "execution_count": 0,
      "outputs": []
    },
    {
      "cell_type": "code",
      "metadata": {
        "id": "jUQ3RNL7TGGO",
        "colab_type": "code",
        "colab": {}
      },
      "source": [
        "# similar to dict indexing\n",
        "data['c']"
      ],
      "execution_count": 0,
      "outputs": []
    },
    {
      "cell_type": "code",
      "metadata": {
        "id": "8M6YoM2mTGGQ",
        "colab_type": "code",
        "colab": {}
      },
      "source": [
        "# if you are particularly perverse...\n",
        "data = pd.Series([0.25, 0.5, 0.75, 1.0], index=[2, 5, 3, 7])\n",
        "data"
      ],
      "execution_count": 0,
      "outputs": []
    },
    {
      "cell_type": "code",
      "metadata": {
        "id": "vNh2anKpTGGT",
        "colab_type": "code",
        "colab": {}
      },
      "source": [
        "data.loc[3]"
      ],
      "execution_count": 0,
      "outputs": []
    },
    {
      "cell_type": "markdown",
      "metadata": {
        "id": "D7ZxFnRdTGGW",
        "colab_type": "text"
      },
      "source": [
        "# Implicit and Explicit Indexing"
      ]
    },
    {
      "cell_type": "code",
      "metadata": {
        "id": "_92izGlfTGGX",
        "colab_type": "code",
        "colab": {}
      },
      "source": [
        "data = pd.Series(['a', 'b', 'c'], index=[1, 3, 5])\n",
        "data"
      ],
      "execution_count": 0,
      "outputs": []
    },
    {
      "cell_type": "code",
      "metadata": {
        "id": "M12modLNTGGa",
        "colab_type": "code",
        "colab": {}
      },
      "source": [
        "# index is no longer a range\n",
        "# indices are like keys in a dictionary\n",
        "data.index"
      ],
      "execution_count": 0,
      "outputs": []
    },
    {
      "cell_type": "code",
      "metadata": {
        "id": "nwjTFchHTGGc",
        "colab_type": "code",
        "colab": {}
      },
      "source": [
        "data[1] # index by numeric index, not offset!"
      ],
      "execution_count": 0,
      "outputs": []
    },
    {
      "cell_type": "code",
      "metadata": {
        "id": "aMUzyCRlTGGe",
        "colab_type": "code",
        "colab": {}
      },
      "source": [
        "# but slicing still works as before\n",
        "data.loc[1:3] # offset 1...offset 2"
      ],
      "execution_count": 0,
      "outputs": []
    },
    {
      "cell_type": "markdown",
      "metadata": {
        "id": "OS1HIWvcTGGh",
        "colab_type": "text"
      },
      "source": [
        "# __`loc`__ and __`iloc`__\n",
        "* .loc is a __*label*__-based indexing method\n",
        "* .iloc is an __*position*__-based indexing method"
      ]
    },
    {
      "cell_type": "code",
      "metadata": {
        "id": "BIHRXj4ZTGGh",
        "colab_type": "code",
        "colab": {}
      },
      "source": [
        "data"
      ],
      "execution_count": 0,
      "outputs": []
    },
    {
      "cell_type": "code",
      "metadata": {
        "id": "bn79Jv2wTGGk",
        "colab_type": "code",
        "colab": {}
      },
      "source": [
        "data.loc[1] # 1 here is a label, not an offset"
      ],
      "execution_count": 0,
      "outputs": []
    },
    {
      "cell_type": "code",
      "metadata": {
        "id": "OJ6KW6wGTGGn",
        "colab_type": "code",
        "colab": {}
      },
      "source": [
        "data.loc[1:2] # 1 and 3 are labels, not integer offsets"
      ],
      "execution_count": 0,
      "outputs": []
    },
    {
      "cell_type": "code",
      "metadata": {
        "id": "gnfR1AVQTGGq",
        "colab_type": "code",
        "colab": {}
      },
      "source": [
        "data.iloc[1] # 1 is an offset, not a label"
      ],
      "execution_count": 0,
      "outputs": []
    },
    {
      "cell_type": "code",
      "metadata": {
        "id": "FhuPnrF7TGGs",
        "colab_type": "code",
        "colab": {}
      },
      "source": [
        "data.iloc[1:3] # 1..3 is a Python slice based on offsets"
      ],
      "execution_count": 0,
      "outputs": []
    },
    {
      "cell_type": "markdown",
      "metadata": {
        "id": "raVweDLMTGGu",
        "colab_type": "text"
      },
      "source": [
        "# Python Dicts as Series"
      ]
    },
    {
      "cell_type": "code",
      "metadata": {
        "id": "HMR-aX3FTGGv",
        "colab_type": "code",
        "colab": {}
      },
      "source": [
        "population_dict = {'California': 38332521,\n",
        "                       'Texas': 26448193,\n",
        "                       'New York': 19651127,\n",
        "                       'Florida': 19552860,\n",
        "                       'Illinois': 12882135,\n",
        "                        'North Dakota': 10000000}\n",
        "population = pd.Series(population_dict)\n",
        "population"
      ],
      "execution_count": 0,
      "outputs": []
    },
    {
      "cell_type": "code",
      "metadata": {
        "id": "ET4jrXAiTGGx",
        "colab_type": "code",
        "colab": {}
      },
      "source": [
        "population[::-1]['New York':'California']"
      ],
      "execution_count": 0,
      "outputs": []
    },
    {
      "cell_type": "code",
      "metadata": {
        "id": "sU5LCTMzTGGz",
        "colab_type": "code",
        "colab": {}
      },
      "source": [
        "population['California':'New York']"
      ],
      "execution_count": 0,
      "outputs": []
    },
    {
      "cell_type": "markdown",
      "metadata": {
        "id": "ysr0nU6YTGG2",
        "colab_type": "text"
      },
      "source": [
        "# Pandas DataFrame"
      ]
    },
    {
      "cell_type": "code",
      "metadata": {
        "id": "8Anoe-ZmTGG2",
        "colab_type": "code",
        "colab": {}
      },
      "source": [
        "area_dict = {'California': 423967, 'Texas': 695662, 'New York': 141297,\n",
        "                 'Florida': 170312, 'Illinois': 149995, 'Rhode Island': 1000}\n",
        "area = pd.Series(area_dict)\n",
        "area"
      ],
      "execution_count": 0,
      "outputs": []
    },
    {
      "cell_type": "code",
      "metadata": {
        "id": "HoSwURBbTGG4",
        "colab_type": "code",
        "colab": {}
      },
      "source": [
        "states = pd.DataFrame(data=[population.values, area.values]).transpose()"
      ],
      "execution_count": 0,
      "outputs": []
    },
    {
      "cell_type": "code",
      "metadata": {
        "id": "NmdEcgpeTGG7",
        "colab_type": "code",
        "colab": {}
      },
      "source": [
        "states.index"
      ],
      "execution_count": 0,
      "outputs": []
    },
    {
      "cell_type": "code",
      "metadata": {
        "id": "pjr4fv3-TGG9",
        "colab_type": "code",
        "colab": {}
      },
      "source": [
        "states.columns = ['pop', 'area']\n",
        "states"
      ],
      "execution_count": 0,
      "outputs": []
    },
    {
      "cell_type": "code",
      "metadata": {
        "id": "XQJ9AdZlTGHA",
        "colab_type": "code",
        "colab": {}
      },
      "source": [
        "states['area']"
      ],
      "execution_count": 0,
      "outputs": []
    },
    {
      "cell_type": "code",
      "metadata": {
        "id": "ybCCxkl4TGHC",
        "colab_type": "code",
        "colab": {}
      },
      "source": [
        "states.values"
      ],
      "execution_count": 0,
      "outputs": []
    },
    {
      "cell_type": "code",
      "metadata": {
        "id": "MWfbTPAeTGHE",
        "colab_type": "code",
        "colab": {}
      },
      "source": [
        "# get descriptive statistics\n",
        "states.describe()"
      ],
      "execution_count": 0,
      "outputs": []
    },
    {
      "cell_type": "markdown",
      "metadata": {
        "id": "EIgkwTG4TGHL",
        "colab_type": "text"
      },
      "source": [
        "# Sales Data"
      ]
    },
    {
      "cell_type": "code",
      "metadata": {
        "id": "ie7MgG0dTGHL",
        "colab_type": "code",
        "colab": {}
      },
      "source": [
        "dat = pd.read_csv(\"data/WA_Fn-UseC_-Sales-Win-Loss.csv\")"
      ],
      "execution_count": 0,
      "outputs": []
    },
    {
      "cell_type": "code",
      "metadata": {
        "id": "uY6RN05tTGHN",
        "colab_type": "code",
        "colab": {}
      },
      "source": [
        "dat.columns"
      ],
      "execution_count": 0,
      "outputs": []
    },
    {
      "cell_type": "code",
      "metadata": {
        "id": "0BGNLDooTGHP",
        "colab_type": "code",
        "colab": {}
      },
      "source": [
        "dat['Opportunity Result']"
      ],
      "execution_count": 0,
      "outputs": []
    },
    {
      "cell_type": "markdown",
      "metadata": {
        "id": "4TJL1jKmTGHR",
        "colab_type": "text"
      },
      "source": [
        "# Counting Values"
      ]
    },
    {
      "cell_type": "code",
      "metadata": {
        "id": "1tUlhxtgTGHS",
        "colab_type": "code",
        "colab": {}
      },
      "source": [
        "dat['Opportunity Result'].value_counts()"
      ],
      "execution_count": 0,
      "outputs": []
    },
    {
      "cell_type": "code",
      "metadata": {
        "id": "R3FO8hesTGHU",
        "colab_type": "code",
        "colab": {}
      },
      "source": [
        "dat['Supplies Group'].value_counts()"
      ],
      "execution_count": 0,
      "outputs": []
    },
    {
      "cell_type": "code",
      "metadata": {
        "id": "FqZc98_ATGHW",
        "colab_type": "code",
        "colab": {}
      },
      "source": [
        "dat['Elapsed Days In Sales Stage'].value_counts().sort_values(ascending = True)"
      ],
      "execution_count": 0,
      "outputs": []
    },
    {
      "cell_type": "markdown",
      "metadata": {
        "id": "TwFSyLaKTGHY",
        "colab_type": "text"
      },
      "source": [
        "# Top Five Values"
      ]
    },
    {
      "cell_type": "code",
      "metadata": {
        "id": "46m2Y_CiTGHZ",
        "colab_type": "code",
        "colab": {}
      },
      "source": [
        "dat['Supplies Subgroup'].value_counts()"
      ],
      "execution_count": 0,
      "outputs": []
    },
    {
      "cell_type": "markdown",
      "metadata": {
        "id": "YSi65dCjTGHb",
        "colab_type": "text"
      },
      "source": [
        "# Extracting Columns"
      ]
    },
    {
      "cell_type": "code",
      "metadata": {
        "id": "KN5RD_n5TGHb",
        "colab_type": "code",
        "colab": {}
      },
      "source": [
        "dat[:5].T"
      ],
      "execution_count": 0,
      "outputs": []
    },
    {
      "cell_type": "code",
      "metadata": {
        "id": "iJ2mxpJmTGHe",
        "colab_type": "code",
        "colab": {}
      },
      "source": [
        "region_results = dat[[\"Region\", \"Opportunity Result\", \"Sales Stage Change Count\"]]\n",
        "dat.describe()"
      ],
      "execution_count": 0,
      "outputs": []
    },
    {
      "cell_type": "code",
      "metadata": {
        "id": "nmi_ko0cTGHh",
        "colab_type": "code",
        "colab": {}
      },
      "source": [
        "region_results.shape"
      ],
      "execution_count": 0,
      "outputs": []
    },
    {
      "cell_type": "code",
      "metadata": {
        "id": "JyfaaHL1TGHk",
        "colab_type": "code",
        "colab": {}
      },
      "source": [
        "region_results.head()"
      ],
      "execution_count": 0,
      "outputs": []
    },
    {
      "cell_type": "markdown",
      "metadata": {
        "id": "xCSTYw29TGHn",
        "colab_type": "text"
      },
      "source": [
        "# Setting the Index\n",
        "* oftentimes the index of the DataFrame is something we don't care about, e.g., a default numeric index or sequence number"
      ]
    },
    {
      "cell_type": "code",
      "metadata": {
        "id": "wrqKszuDTGHo",
        "colab_type": "code",
        "colab": {}
      },
      "source": [
        "presidents = pd.DataFrame([\n",
        "    { 'name': 'James Madison', 'elect': 1808, 'born': 1751 },\n",
        "    { 'name': 'Thomas Jefferson', 'elect': 1800, 'born': 1743 },\n",
        "    { 'name': 'John Adams', 'elect': 1796, 'born': 1735 },\n",
        "    { 'name': 'George Washington', 'elect': 1788, 'born': 1724 },\n",
        "])\n",
        "presidents"
      ],
      "execution_count": 0,
      "outputs": []
    },
    {
      "cell_type": "code",
      "metadata": {
        "id": "lRxNxm8MTGHr",
        "colab_type": "code",
        "colab": {}
      },
      "source": [
        "# the default numeric isn't interesting\n",
        "# let's use name as the index\n",
        "presidents.set_index('name', inplace=True)"
      ],
      "execution_count": 0,
      "outputs": []
    },
    {
      "cell_type": "code",
      "metadata": {
        "id": "8dWwG0nPTGHt",
        "colab_type": "code",
        "colab": {}
      },
      "source": [
        "presidents.index"
      ],
      "execution_count": 0,
      "outputs": []
    }
  ]
}