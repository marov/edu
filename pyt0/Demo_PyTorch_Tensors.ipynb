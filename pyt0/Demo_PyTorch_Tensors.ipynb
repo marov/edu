{
  "nbformat": 4,
  "nbformat_minor": 0,
  "metadata": {
    "accelerator": "GPU",
    "colab": {
      "name": "Demo_PyTorch_Tensors.ipynb",
      "provenance": [],
      "collapsed_sections": []
    },
    "kernelspec": {
      "display_name": "Python 3",
      "language": "python",
      "name": "python3"
    },
    "language_info": {
      "codemirror_mode": {
        "name": "ipython",
        "version": 3
      },
      "file_extension": ".py",
      "mimetype": "text/x-python",
      "name": "python",
      "nbconvert_exporter": "python",
      "pygments_lexer": "ipython3",
      "version": "3.7.3"
    }
  },
  "cells": [
    {
      "source": [
        "<a href=\"https://colab.research.google.com/github/osipov/edu/blob/master/pyt0/Demo_PyTorch_Tensors.ipynb\" target=\"_blank\"><img src=\"https://colab.research.google.com/assets/colab-badge.svg\"/></a>"
      ],
      "cell_type": "markdown",
      "metadata": {}
    },
    {
      "cell_type": "markdown",
      "metadata": {
        "colab_type": "text",
        "id": "6ezwfR9XH48p"
      },
      "source": [
        "# Python Doesn't Have Good Numeric Support\n",
        "* Python integers are actually an object with header and typing information\n",
        "* access to Python integers requires a level of indirection\n",
        "* In C, integers are directly accessible in memory without indirection\n",
        "<img src=\"https://github.com/osipov/edu/raw/master/pyt0/images/python-01.png\" width=700 height=400>"
      ]
    },
    {
      "cell_type": "markdown",
      "metadata": {
        "colab_type": "text",
        "id": "mbEvFTCAH48q"
      },
      "source": [
        "## The Problem is Even Worse for Python Lists \n",
        "* Python lists are immensely flexible\n",
        "  * no fixed size\n",
        "  * OK to have heterogeneous data\n",
        "* ...but as a result they are not likely to be contiguous in memory\n",
        "* and even if they are, there is still a lot of indirection required\n",
        "* so they aren't good for fast number crunching\n",
        "<img src=\"https://github.com/osipov/edu/raw/master/pyt0/images/python-02.png\" width=700 height=700>"
      ]
    },
    {
      "cell_type": "code",
      "metadata": {
        "colab_type": "code",
        "id": "fkS_WcY2coaj",
        "colab": {}
      },
      "source": [
        "pylist = list(range(1_000_000))\n",
        "%timeit [i + 1 for i in pylist]"
      ],
      "execution_count": 0,
      "outputs": []
    },
    {
      "cell_type": "markdown",
      "metadata": {
        "colab_type": "text",
        "id": "FSYxb3LHH48r"
      },
      "source": [
        "## One solution is to use PyTorch tensors\n",
        "* written in C++\n",
        "* allows for vectorized operations"
      ]
    },
    {
      "cell_type": "code",
      "metadata": {
        "colab_type": "code",
        "id": "1de2VLpWc9pb",
        "colab": {}
      },
      "source": [
        "!pip install --upgrade -q torch==1.7.0\n",
        "import torch as pt\n",
        "pt.__version__"
      ],
      "execution_count": 0,
      "outputs": []
    },
    {
      "cell_type": "markdown",
      "metadata": {
        "id": "caPLdVBO9ujf",
        "colab_type": "text"
      },
      "source": [
        "## PyTorch Scalars"
      ]
    },
    {
      "cell_type": "code",
      "metadata": {
        "colab_type": "code",
        "id": "LY0vW0RpPZZ0",
        "colab": {}
      },
      "source": [
        "pt.tensor(42)"
      ],
      "execution_count": 0,
      "outputs": []
    },
    {
      "cell_type": "code",
      "metadata": {
        "colab_type": "code",
        "id": "25baYf_vbqWM",
        "colab": {}
      },
      "source": [
        "pt.tensor(42).dtype"
      ],
      "execution_count": 0,
      "outputs": []
    },
    {
      "cell_type": "code",
      "metadata": {
        "id": "Ytahj47q9ujw",
        "colab_type": "code",
        "colab": {}
      },
      "source": [
        "pt.tensor(42).shape"
      ],
      "execution_count": 0,
      "outputs": []
    },
    {
      "cell_type": "code",
      "metadata": {
        "id": "hdL_I5919ujz",
        "colab_type": "code",
        "colab": {}
      },
      "source": [
        "len(pt.tensor(42).shape) == 0"
      ],
      "execution_count": 0,
      "outputs": []
    },
    {
      "cell_type": "code",
      "metadata": {
        "colab_type": "code",
        "id": "7lOOodHGPRz_",
        "colab": {}
      },
      "source": [
        "pt.tensor(3.14).dtype"
      ],
      "execution_count": 0,
      "outputs": []
    },
    {
      "cell_type": "code",
      "metadata": {
        "colab_type": "code",
        "id": "ThH9pmxcPdpA",
        "colab": {}
      },
      "source": [
        "pt.tensor(3.14).item()"
      ],
      "execution_count": 0,
      "outputs": []
    },
    {
      "cell_type": "code",
      "metadata": {
        "id": "7Ht1V2Zl9ujr",
        "colab_type": "code",
        "colab": {}
      },
      "source": [
        "pt.tensor(3.14).item() == 3.14"
      ],
      "execution_count": 0,
      "outputs": []
    },
    {
      "cell_type": "markdown",
      "metadata": {
        "id": "j_-cjPNM9uj1",
        "colab_type": "text"
      },
      "source": [
        "## IEEE Standard for Floating-Point Arithmetic (IEEE 754) \n",
        "* a refresher on floating point precision issues"
      ]
    },
    {
      "cell_type": "code",
      "metadata": {
        "id": "Y2htN9eA9uj2",
        "colab_type": "code",
        "colab": {}
      },
      "source": [
        "x = 0.3\n",
        "x"
      ],
      "execution_count": 0,
      "outputs": []
    },
    {
      "cell_type": "code",
      "metadata": {
        "id": "pT8Rrdzl9uj5",
        "colab_type": "code",
        "colab": {}
      },
      "source": [
        "3 * 0.1 == x"
      ],
      "execution_count": 0,
      "outputs": []
    },
    {
      "cell_type": "code",
      "metadata": {
        "id": "STHfElvB9uj7",
        "colab_type": "code",
        "colab": {}
      },
      "source": [
        "3 * 0.1"
      ],
      "execution_count": 0,
      "outputs": []
    },
    {
      "cell_type": "code",
      "metadata": {
        "id": "YQ94ixYm9uj-",
        "colab_type": "code",
        "colab": {}
      },
      "source": [
        "x = pt.tensor(3.14)"
      ],
      "execution_count": 0,
      "outputs": []
    },
    {
      "cell_type": "code",
      "metadata": {
        "id": "nQ_uYK5m9ukA",
        "colab_type": "code",
        "colab": {}
      },
      "source": [
        "x.to(pt.uint8).item()"
      ],
      "execution_count": 0,
      "outputs": []
    },
    {
      "cell_type": "code",
      "metadata": {
        "id": "rzklhoHV9ukC",
        "colab_type": "code",
        "colab": {}
      },
      "source": [
        "pt.tensor(x.to(pt.uint8))"
      ],
      "execution_count": 0,
      "outputs": []
    },
    {
      "cell_type": "code",
      "metadata": {
        "id": "GOxg1jGe9ukG",
        "colab_type": "code",
        "colab": {}
      },
      "source": [
        "pt.tensor(x.to(pt.uint8).item(), dtype = pt.float32)"
      ],
      "execution_count": 0,
      "outputs": []
    },
    {
      "cell_type": "markdown",
      "metadata": {
        "colab_type": "text",
        "id": "GiSWaSveH488"
      },
      "source": [
        "## __pt.trunc()__\n",
        "\n",
        "* nearest integer __`i`__ which is closer to zero than __`x`__ is"
      ]
    },
    {
      "cell_type": "code",
      "metadata": {
        "colab_type": "code",
        "id": "jhY3NNOAH489",
        "colab": {}
      },
      "source": [
        "pt.trunc(x)"
      ],
      "execution_count": 0,
      "outputs": []
    },
    {
      "cell_type": "code",
      "metadata": {
        "id": "OQMiYX8n9ukM",
        "colab_type": "code",
        "colab": {}
      },
      "source": [
        "pt.trunc(pt.tensor(2.01)).dtype"
      ],
      "execution_count": 0,
      "outputs": []
    },
    {
      "cell_type": "markdown",
      "metadata": {
        "colab_type": "text",
        "id": "k1Ep0DqVH48_"
      },
      "source": [
        "## __pt.floor()__\n",
        "\n",
        "* the largest integer __`i`__, such that __`i <= x`__"
      ]
    },
    {
      "cell_type": "code",
      "metadata": {
        "colab_type": "code",
        "id": "zm7-466kH49A",
        "colab": {}
      },
      "source": [
        "pt.floor(x)"
      ],
      "execution_count": 0,
      "outputs": []
    },
    {
      "cell_type": "code",
      "metadata": {
        "colab_type": "code",
        "id": "ttPIoTNmH49E",
        "colab": {}
      },
      "source": [
        "pt.floor(pt.tensor(2.01))"
      ],
      "execution_count": 0,
      "outputs": []
    },
    {
      "cell_type": "code",
      "metadata": {
        "colab_type": "code",
        "id": "0xnpXNzrH49G",
        "colab": {}
      },
      "source": [
        "pt.floor(pt.tensor(2.))"
      ],
      "execution_count": 0,
      "outputs": []
    },
    {
      "cell_type": "code",
      "metadata": {
        "id": "2y_1mlNM9ukW",
        "colab_type": "code",
        "colab": {}
      },
      "source": [
        "pt.floor(pt.tensor(-3.14))"
      ],
      "execution_count": 0,
      "outputs": []
    },
    {
      "cell_type": "markdown",
      "metadata": {
        "colab_type": "text",
        "id": "J08a-VkKH49J"
      },
      "source": [
        "## __pt.ceil()__\n",
        "\n",
        "* the smallest integer __`i`__, such that __`i >= x`__"
      ]
    },
    {
      "cell_type": "code",
      "metadata": {
        "colab_type": "code",
        "id": "iIKHAB8MH49K",
        "colab": {}
      },
      "source": [
        "pt.ceil(x)"
      ],
      "execution_count": 0,
      "outputs": []
    },
    {
      "cell_type": "code",
      "metadata": {
        "colab_type": "code",
        "id": "ljyv7AgVH49N",
        "colab": {}
      },
      "source": [
        "pt.ceil(pt.tensor(2.01))"
      ],
      "execution_count": 0,
      "outputs": []
    },
    {
      "cell_type": "code",
      "metadata": {
        "colab_type": "code",
        "id": "wVDpB1NBH49S",
        "colab": {}
      },
      "source": [
        "pt.ceil(pt.tensor(2.))"
      ],
      "execution_count": 0,
      "outputs": []
    },
    {
      "cell_type": "markdown",
      "metadata": {
        "id": "My_UkuVM9ukk",
        "colab_type": "text"
      },
      "source": [
        "* can __pt.ceil()__ be used in place of __pt.floor()__ ?"
      ]
    },
    {
      "cell_type": "code",
      "metadata": {
        "colab_type": "code",
        "id": "KOhbtHaqH49U",
        "colab": {}
      },
      "source": [
        "pt.ceil(x) - 1"
      ],
      "execution_count": 0,
      "outputs": []
    },
    {
      "cell_type": "code",
      "metadata": {
        "colab_type": "code",
        "id": "a4Fx2HAmH49W",
        "colab": {}
      },
      "source": [
        "pt.ceil(pt.tensor(2.01)) - 1"
      ],
      "execution_count": 0,
      "outputs": []
    },
    {
      "cell_type": "code",
      "metadata": {
        "id": "u-IVaToe9ukp",
        "colab_type": "code",
        "colab": {}
      },
      "source": [
        "pt.ceil(pt.tensor(2.)) - 1"
      ],
      "execution_count": 0,
      "outputs": []
    },
    {
      "cell_type": "markdown",
      "metadata": {
        "id": "snVbqgra_2rM",
        "colab_type": "text"
      },
      "source": [
        "## PyTorch arrays\n",
        "* data is stored contiguously in memory"
      ]
    },
    {
      "cell_type": "code",
      "metadata": {
        "colab_type": "code",
        "id": "iYPeREHmH49Z",
        "colab": {}
      },
      "source": [
        "# pytorch will infer the data type\n",
        "a = pt.tensor([1, 4, 2, 5, 3])\n",
        "a, a.dtype"
      ],
      "execution_count": 0,
      "outputs": []
    },
    {
      "cell_type": "code",
      "metadata": {
        "colab_type": "code",
        "id": "bLLlBh0jH49c",
        "colab": {}
      },
      "source": [
        "a = pt.tensor([3.14, 4, 2, 3])\n",
        "a, a.dtype"
      ],
      "execution_count": 0,
      "outputs": []
    },
    {
      "cell_type": "code",
      "metadata": {
        "colab_type": "code",
        "id": "Fqro-1wrH49f",
        "colab": {}
      },
      "source": [
        "# ...or you can be explicit\n",
        "a = pt.tensor([1, 2, 3, 4], dtype=pt.float32)\n",
        "a"
      ],
      "execution_count": 0,
      "outputs": []
    },
    {
      "cell_type": "code",
      "metadata": {
        "colab_type": "code",
        "id": "HjPq14z3H49i",
        "colab": {}
      },
      "source": [
        "pt.tensor([range(i, i + 3) for i in [2, 4, 6]])"
      ],
      "execution_count": 0,
      "outputs": []
    },
    {
      "cell_type": "code",
      "metadata": {
        "colab_type": "code",
        "id": "QCRdAkhZH49k",
        "colab": {}
      },
      "source": [
        "pt.zeros(10, dtype=int)"
      ],
      "execution_count": 0,
      "outputs": []
    },
    {
      "cell_type": "code",
      "metadata": {
        "colab_type": "code",
        "id": "JEYfcy4AH49m",
        "colab": {}
      },
      "source": [
        "pt.ones((3, 5), dtype=float)"
      ],
      "execution_count": 0,
      "outputs": []
    },
    {
      "cell_type": "code",
      "metadata": {
        "colab_type": "code",
        "id": "_XWOYKMhH493",
        "colab": {}
      },
      "source": [
        "pt.eye(5)"
      ],
      "execution_count": 0,
      "outputs": []
    },
    {
      "cell_type": "code",
      "metadata": {
        "colab_type": "code",
        "id": "PujnAxmFH49o",
        "colab": {}
      },
      "source": [
        "pt.full((3, 5), 42, dtype=int)"
      ],
      "execution_count": 0,
      "outputs": []
    },
    {
      "cell_type": "code",
      "metadata": {
        "colab_type": "code",
        "id": "gL4aEPnBH49q",
        "colab": {}
      },
      "source": [
        "pt.arange(0, 20, 2)"
      ],
      "execution_count": 0,
      "outputs": []
    },
    {
      "cell_type": "code",
      "metadata": {
        "colab_type": "code",
        "id": "ousQ2uqKH49u",
        "colab": {}
      },
      "source": [
        "pt.linspace(0, 1, 5)"
      ],
      "execution_count": 0,
      "outputs": []
    },
    {
      "cell_type": "markdown",
      "metadata": {
        "id": "mieISOa19ulG",
        "colab_type": "text"
      },
      "source": [
        "## Pseudo-Random Numbers"
      ]
    },
    {
      "cell_type": "code",
      "metadata": {
        "id": "FLFPJxZF9ulG",
        "colab_type": "code",
        "colab": {}
      },
      "source": [
        "pt.manual_seed(0);"
      ],
      "execution_count": 0,
      "outputs": []
    },
    {
      "cell_type": "code",
      "metadata": {
        "colab_type": "code",
        "id": "WLiVKYOTH49w",
        "colab": {}
      },
      "source": [
        "pt.randn(3, 3)"
      ],
      "execution_count": 0,
      "outputs": []
    },
    {
      "cell_type": "code",
      "metadata": {
        "colab_type": "code",
        "id": "r4_XJFMaH49y",
        "colab": {}
      },
      "source": [
        "pt.normal(0, 1, size = (3, 3))\n"
      ],
      "execution_count": 0,
      "outputs": []
    },
    {
      "cell_type": "code",
      "metadata": {
        "colab_type": "code",
        "id": "WnG1muSdH491",
        "colab": {}
      },
      "source": [
        "pt.randint(0, 10, (3, 3))"
      ],
      "execution_count": 0,
      "outputs": []
    },
    {
      "cell_type": "markdown",
      "metadata": {
        "colab_type": "text",
        "id": "Hn7sHGfRH496"
      },
      "source": [
        "## Converting array types"
      ]
    },
    {
      "cell_type": "code",
      "metadata": {
        "colab_type": "code",
        "id": "VkeIohcuH496",
        "colab": {}
      },
      "source": [
        "x = pt.linspace(0, 10, 50)\n",
        "x"
      ],
      "execution_count": 0,
      "outputs": []
    },
    {
      "cell_type": "code",
      "metadata": {
        "colab_type": "code",
        "id": "a6oEEQCcH498",
        "colab": {}
      },
      "source": [
        "x.to(int)"
      ],
      "execution_count": 0,
      "outputs": []
    },
    {
      "cell_type": "markdown",
      "metadata": {
        "colab_type": "text",
        "id": "5OHltxoYH49-"
      },
      "source": [
        "## Multi-dimensional Arrays"
      ]
    },
    {
      "cell_type": "code",
      "metadata": {
        "colab_type": "code",
        "id": "gst_0xQ9H49_",
        "colab": {}
      },
      "source": [
        "x2 = pt.randint(10, size=[3, 4])\n",
        "x2"
      ],
      "execution_count": 0,
      "outputs": []
    },
    {
      "cell_type": "markdown",
      "metadata": {
        "colab_type": "text",
        "id": "gFB5i5tkH4-B"
      },
      "source": [
        "## True \"matrix-style\" indexing"
      ]
    },
    {
      "cell_type": "code",
      "metadata": {
        "colab_type": "code",
        "id": "mgPXcIRSH4-B",
        "colab": {}
      },
      "source": [
        "x2[0, 0]"
      ],
      "execution_count": 0,
      "outputs": []
    },
    {
      "cell_type": "code",
      "metadata": {
        "colab_type": "code",
        "id": "JVrN3jBdH4-D",
        "colab": {}
      },
      "source": [
        "x2[2, 0]"
      ],
      "execution_count": 0,
      "outputs": []
    },
    {
      "cell_type": "code",
      "metadata": {
        "colab_type": "code",
        "id": "VDtNmlwiH4-F",
        "colab": {}
      },
      "source": [
        "x2[2, -1]"
      ],
      "execution_count": 0,
      "outputs": []
    },
    {
      "cell_type": "code",
      "metadata": {
        "colab_type": "code",
        "id": "sUurrqzUH4-H",
        "colab": {}
      },
      "source": [
        "x2[0, 0] = 12\n",
        "x2"
      ],
      "execution_count": 0,
      "outputs": []
    },
    {
      "cell_type": "code",
      "metadata": {
        "colab_type": "code",
        "id": "z7w0J4ZDH4-J",
        "colab": {}
      },
      "source": [
        "pt.arange(0, 9).reshape(3, 3)"
      ],
      "execution_count": 0,
      "outputs": []
    },
    {
      "cell_type": "markdown",
      "metadata": {
        "colab_type": "text",
        "id": "YavLAYX9H4-M"
      },
      "source": [
        "## Array Slicing"
      ]
    },
    {
      "cell_type": "code",
      "metadata": {
        "colab_type": "code",
        "id": "iapW7b5jH4-N",
        "colab": {}
      },
      "source": [
        "x = pt.arange(10)\n",
        "x[:5]"
      ],
      "execution_count": 0,
      "outputs": []
    },
    {
      "cell_type": "code",
      "metadata": {
        "colab_type": "code",
        "id": "eNjX0OueH4-R",
        "colab": {}
      },
      "source": [
        "x[5:]"
      ],
      "execution_count": 0,
      "outputs": []
    },
    {
      "cell_type": "code",
      "metadata": {
        "colab_type": "code",
        "id": "KLRZuFo7H4-T",
        "colab": {}
      },
      "source": [
        "x[4:7]"
      ],
      "execution_count": 0,
      "outputs": []
    },
    {
      "cell_type": "code",
      "metadata": {
        "colab_type": "code",
        "id": "QALndZ3tH4-X",
        "colab": {}
      },
      "source": [
        "x[::2]"
      ],
      "execution_count": 0,
      "outputs": []
    },
    {
      "cell_type": "code",
      "metadata": {
        "colab_type": "code",
        "id": "B1b5L1xhH4-Z",
        "colab": {}
      },
      "source": [
        "x[1::2]"
      ],
      "execution_count": 0,
      "outputs": []
    },
    {
      "cell_type": "code",
      "metadata": {
        "colab_type": "code",
        "id": "8uAX1x4eH4-b",
        "colab": {}
      },
      "source": [
        "x[::-1] # :)"
      ],
      "execution_count": 0,
      "outputs": []
    },
    {
      "cell_type": "code",
      "metadata": {
        "id": "j_F5K41e9ul1",
        "colab_type": "code",
        "colab": {}
      },
      "source": [
        "reversed(x)"
      ],
      "execution_count": 0,
      "outputs": []
    },
    {
      "cell_type": "code",
      "metadata": {
        "colab_type": "code",
        "id": "WjDTL2xyH4-e",
        "colab": {}
      },
      "source": [
        "reversed(x)[5::2]"
      ],
      "execution_count": 0,
      "outputs": []
    },
    {
      "cell_type": "markdown",
      "metadata": {
        "colab_type": "text",
        "id": "J0azkBf7H4-h"
      },
      "source": [
        "## Filtering 1-dimensional data"
      ]
    },
    {
      "cell_type": "code",
      "metadata": {
        "colab_type": "code",
        "id": "NALu7pJqH4-h",
        "colab": {}
      },
      "source": [
        "x = pt.tensor([ 1, 0, 5, 2, 1, 0, 8, 0, 0 ])"
      ],
      "execution_count": 0,
      "outputs": []
    },
    {
      "cell_type": "code",
      "metadata": {
        "colab_type": "code",
        "id": "LAW8kJJLH4-j",
        "colab": {}
      },
      "source": [
        "x.nonzero()"
      ],
      "execution_count": 0,
      "outputs": []
    },
    {
      "cell_type": "code",
      "metadata": {
        "colab_type": "code",
        "id": "-OZtPXI1H4-l",
        "colab": {}
      },
      "source": [
        "x[x.nonzero()]"
      ],
      "execution_count": 0,
      "outputs": []
    },
    {
      "cell_type": "code",
      "metadata": {
        "colab_type": "code",
        "id": "BeHSIE_MH4-o",
        "colab": {}
      },
      "source": [
        "x[x < 3]"
      ],
      "execution_count": 0,
      "outputs": []
    },
    {
      "cell_type": "markdown",
      "metadata": {
        "colab_type": "text",
        "id": "U7iuruo4H4-q"
      },
      "source": [
        "## Filtering 2-dimensional data"
      ]
    },
    {
      "cell_type": "code",
      "metadata": {
        "colab_type": "code",
        "id": "nQmeV8mVH4-q",
        "colab": {}
      },
      "source": [
        "x = pt.tensor([[1, 0, 0], [0, 5, 0], [7, 8, 0]])\n",
        "x"
      ],
      "execution_count": 0,
      "outputs": []
    },
    {
      "cell_type": "code",
      "metadata": {
        "colab_type": "code",
        "id": "s-0coky5H4-s",
        "colab": {}
      },
      "source": [
        "# produces two arrays, one with x coords, one with y coords\n",
        "x.nonzero()"
      ],
      "execution_count": 0,
      "outputs": []
    },
    {
      "cell_type": "code",
      "metadata": {
        "id": "OBtoNUxC9umD",
        "colab_type": "code",
        "colab": {}
      },
      "source": [
        "x.nonzero(as_tuple = True)"
      ],
      "execution_count": 0,
      "outputs": []
    },
    {
      "cell_type": "code",
      "metadata": {
        "id": "4oqoImh69umE",
        "colab_type": "code",
        "colab": {}
      },
      "source": [
        "x[x.nonzero(as_tuple = True)]"
      ],
      "execution_count": 0,
      "outputs": []
    },
    {
      "cell_type": "code",
      "metadata": {
        "id": "ILF5uDXn9umI",
        "colab_type": "code",
        "colab": {}
      },
      "source": [
        "y = pt.arange(1, 10).reshape(3, 3)\n",
        "y"
      ],
      "execution_count": 0,
      "outputs": []
    },
    {
      "cell_type": "code",
      "metadata": {
        "id": "mMJhqad39umJ",
        "colab_type": "code",
        "colab": {}
      },
      "source": [
        "y.index_select(dim = 0, index = pt.tensor([0, 2]))"
      ],
      "execution_count": 0,
      "outputs": []
    },
    {
      "cell_type": "code",
      "metadata": {
        "colab_type": "code",
        "id": "CXue7JnFH4-u",
        "colab": {}
      },
      "source": [
        "y.index_select(dim = 1, index = pt.tensor([0, 2]))"
      ],
      "execution_count": 0,
      "outputs": []
    },
    {
      "cell_type": "code",
      "metadata": {
        "colab_type": "code",
        "id": "KlNLcrQ7H4-w",
        "colab": {}
      },
      "source": [
        "y.triu()"
      ],
      "execution_count": 0,
      "outputs": []
    },
    {
      "cell_type": "code",
      "metadata": {
        "id": "TSQt0kmd9umO",
        "colab_type": "code",
        "colab": {}
      },
      "source": [
        "y.tril()"
      ],
      "execution_count": 0,
      "outputs": []
    },
    {
      "cell_type": "code",
      "metadata": {
        "id": "jVZh015S9umQ",
        "colab_type": "code",
        "colab": {}
      },
      "source": [
        "y.tril().T #transpose"
      ],
      "execution_count": 0,
      "outputs": []
    },
    {
      "cell_type": "markdown",
      "metadata": {
        "colab_type": "text",
        "id": "23ED3b7BH4-y"
      },
      "source": [
        "## Multi-dimensional subarrays"
      ]
    },
    {
      "cell_type": "code",
      "metadata": {
        "colab_type": "code",
        "id": "X_lAYYQqH4-z",
        "colab": {}
      },
      "source": [
        "x2"
      ],
      "execution_count": 0,
      "outputs": []
    },
    {
      "cell_type": "code",
      "metadata": {
        "colab_type": "code",
        "id": "ch7yUUl6H4-1",
        "colab": {}
      },
      "source": [
        "x2[:2, :3]"
      ],
      "execution_count": 0,
      "outputs": []
    },
    {
      "cell_type": "code",
      "metadata": {
        "colab_type": "code",
        "id": "Vlfjt5joH4-6",
        "colab": {}
      },
      "source": [
        "x2[:3, ::2]"
      ],
      "execution_count": 0,
      "outputs": []
    },
    {
      "cell_type": "code",
      "metadata": {
        "id": "rSkSNj_F9umW",
        "colab_type": "code",
        "colab": {}
      },
      "source": [
        "x2[::-1, ::-1]"
      ],
      "execution_count": 0,
      "outputs": []
    },
    {
      "cell_type": "code",
      "metadata": {
        "colab_type": "code",
        "id": "GPZCnkHYH4-8",
        "colab": {}
      },
      "source": [
        "reversed(x2)"
      ],
      "execution_count": 0,
      "outputs": []
    },
    {
      "cell_type": "code",
      "metadata": {
        "id": "HNjacByr9uma",
        "colab_type": "code",
        "colab": {}
      },
      "source": [
        "indices = pt.arange(x2.numel() - 1, -1, -1)\n",
        "indices"
      ],
      "execution_count": 0,
      "outputs": []
    },
    {
      "cell_type": "code",
      "metadata": {
        "id": "y5tdmRlj9umd",
        "colab_type": "code",
        "colab": {}
      },
      "source": [
        "pt.take(x2, indices).reshape(x2.shape) #x2[::-1, ::-1]"
      ],
      "execution_count": 0,
      "outputs": []
    },
    {
      "cell_type": "markdown",
      "metadata": {
        "colab_type": "text",
        "id": "9JSa9_ZEH4-_"
      },
      "source": [
        "## Subarray Views"
      ]
    },
    {
      "cell_type": "code",
      "metadata": {
        "colab_type": "code",
        "id": "l9yeU_QvH4-_",
        "colab": {}
      },
      "source": [
        "x2, id(x2)"
      ],
      "execution_count": 0,
      "outputs": []
    },
    {
      "cell_type": "code",
      "metadata": {
        "colab_type": "code",
        "id": "LCVe4vdPH4_B",
        "colab": {}
      },
      "source": [
        "x2_sub = x2[:2, :2]\n",
        "x2_sub, id(x2_sub)"
      ],
      "execution_count": 0,
      "outputs": []
    },
    {
      "cell_type": "code",
      "metadata": {
        "colab_type": "code",
        "id": "caA9uw2mH4_D",
        "colab": {}
      },
      "source": [
        "x2_sub[0, 0] = 99\n",
        "x2_sub"
      ],
      "execution_count": 0,
      "outputs": []
    },
    {
      "cell_type": "code",
      "metadata": {
        "colab_type": "code",
        "id": "wvAPuETHH4_F",
        "colab": {}
      },
      "source": [
        "x2 # changes x2 as well, since the subarray has references to the original"
      ],
      "execution_count": 0,
      "outputs": []
    },
    {
      "cell_type": "markdown",
      "metadata": {
        "colab_type": "text",
        "id": "p1AgH9_7H4_M"
      },
      "source": [
        "## PyTorch ATen Functions\n",
        "* operate on tensors as on contiguous blobs of data in memory\n",
        "* _vectorized_ wrapper for a function that takes a fixed number of specific inputs and produces a fixed number of specific outputs"
      ]
    },
    {
      "cell_type": "markdown",
      "metadata": {
        "colab_type": "text",
        "id": "xxsA3_L9H4_P"
      },
      "source": [
        "| Operator | ATen            | Description                         |\n",
        "|----------|-----------------|-------------------------------------|\n",
        "|   +      | pt.add          | Addition (e.g., 1 + 1 = 2)          |\n",
        "|   -      | pt.subtract     | Subtraction (e.g., 3 - 2 = 1)       |\n",
        "|   -      | pt.negative     | Unary negation (e.g., -2)           |\n",
        "|   *      | pt.multiply     | Multiplication (e.g., 2 * 3 = 6)    |\n",
        "|   /      | pt.divide       | Division (e.g., 3 / 2 = 1.5)        |\n",
        "|   //     | pt.floor_divide | Floor division (e.g., 3 // 2 = 1)   |\n",
        "|   **     | pt.power        | Exponentiation (e.g., 2 ** 3 = 8)   |\n",
        "|   %      | pt.mod          | Modulus/remainder (e.g., 9 % 4 = 1) |"
      ]
    },
    {
      "cell_type": "markdown",
      "metadata": {
        "colab_type": "text",
        "id": "K7Hx62-vH4_G"
      },
      "source": [
        "## Vectorized Operations"
      ]
    },
    {
      "cell_type": "code",
      "metadata": {
        "colab_type": "code",
        "id": "mirPQHg6c2LX",
        "colab": {}
      },
      "source": [
        "pytorch = pt.arange(1_000_000)\n",
        "%timeit pytorch + 1"
      ],
      "execution_count": 0,
      "outputs": []
    },
    {
      "cell_type": "code",
      "metadata": {
        "colab_type": "code",
        "id": "52zp8xGDH4_N",
        "colab": {}
      },
      "source": [
        "x = pt.arange(9).reshape((3, 3))\n",
        "2 ** x"
      ],
      "execution_count": 0,
      "outputs": []
    },
    {
      "cell_type": "code",
      "metadata": {
        "colab_type": "code",
        "id": "v6NQyezYH4_O",
        "colab": {}
      },
      "source": [
        "x = pt.arange(4)\n",
        "-(0.5 * x + 1) ** 2"
      ],
      "execution_count": 0,
      "outputs": []
    },
    {
      "cell_type": "markdown",
      "metadata": {
        "colab_type": "text",
        "id": "FXZVty5hH4_P"
      },
      "source": [
        "## Exponents and Logarithms "
      ]
    },
    {
      "cell_type": "code",
      "metadata": {
        "colab_type": "code",
        "id": "PhMyaPSPH4_Q",
        "colab": {}
      },
      "source": [
        "x = pt.tensor([1., 2., 3.])\n",
        "pt.exp(x)"
      ],
      "execution_count": 0,
      "outputs": []
    },
    {
      "cell_type": "code",
      "metadata": {
        "colab_type": "code",
        "id": "zNI6HN93H4_U",
        "colab": {}
      },
      "source": [
        "pt.pow(3, x)"
      ],
      "execution_count": 0,
      "outputs": []
    },
    {
      "cell_type": "code",
      "metadata": {
        "colab_type": "code",
        "id": "fVrLwkgxH4_W",
        "colab": {}
      },
      "source": [
        "pt.log(pt.tensor([1., 2., 3.]))"
      ],
      "execution_count": 0,
      "outputs": []
    },
    {
      "cell_type": "code",
      "metadata": {
        "colab_type": "code",
        "id": "FvNKvOboH4_X",
        "colab": {}
      },
      "source": [
        "pt.log2(pt.tensor([1., 256., 65536.]))"
      ],
      "execution_count": 0,
      "outputs": []
    },
    {
      "cell_type": "code",
      "metadata": {
        "colab_type": "code",
        "id": "pzEyhXJCH4_b",
        "colab": {}
      },
      "source": [
        "pt.log10(pt.tensor([1_000., 1_000_000., 10. ** 10]))"
      ],
      "execution_count": 0,
      "outputs": []
    },
    {
      "cell_type": "markdown",
      "metadata": {
        "colab_type": "text",
        "id": "P1RwrRf0H4_d"
      },
      "source": [
        "## Aggregations"
      ]
    },
    {
      "cell_type": "code",
      "metadata": {
        "id": "fGPZwXV29um1",
        "colab_type": "code",
        "colab": {}
      },
      "source": [
        "x = pt.arange(15).reshape(3, 5)\n",
        "x"
      ],
      "execution_count": 0,
      "outputs": []
    },
    {
      "cell_type": "code",
      "metadata": {
        "id": "-ctBvP8N9um4",
        "colab_type": "code",
        "colab": {}
      },
      "source": [
        "x.sum()"
      ],
      "execution_count": 0,
      "outputs": []
    },
    {
      "cell_type": "code",
      "metadata": {
        "id": "mye3s4U19um5",
        "colab_type": "code",
        "colab": {}
      },
      "source": [
        "x.sum(dim = 0)"
      ],
      "execution_count": 0,
      "outputs": []
    },
    {
      "cell_type": "code",
      "metadata": {
        "id": "XxzZuj8A9um7",
        "colab_type": "code",
        "colab": {}
      },
      "source": [
        "x.sum(dim = 1, keepdims = True)"
      ],
      "execution_count": 0,
      "outputs": []
    },
    {
      "cell_type": "code",
      "metadata": {
        "id": "8F1FQ3mY9um8",
        "colab_type": "code",
        "colab": {}
      },
      "source": [
        "x.sum(dim = 1)"
      ],
      "execution_count": 0,
      "outputs": []
    },
    {
      "cell_type": "code",
      "metadata": {
        "id": "RF91QSDL9um-",
        "colab_type": "code",
        "colab": {}
      },
      "source": [
        "x.to(float).mean(), x.to(float).std()"
      ],
      "execution_count": 0,
      "outputs": []
    },
    {
      "cell_type": "markdown",
      "metadata": {
        "id": "QAcsKw25E0b7",
        "colab_type": "text"
      },
      "source": [
        "Copyright 2020 CounterFactual.AI LLC. Licensed under the Apache License, Version 2.0 (the \"License\"); you may not use this file except in compliance with the License. You may obtain a copy of the License at http://www.apache.org/licenses/LICENSE-2.0 Unless required by applicable law or agreed to in writing, software distributed under the License is distributed on an \"AS IS\" BASIS, WITHOUT WARRANTIES OR CONDITIONS OF ANY KIND, either express or implied. See the License for the specific language governing permissions and limitations under the License."
      ]
    }
  ]
}