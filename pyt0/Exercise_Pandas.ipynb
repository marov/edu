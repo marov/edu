{
  "nbformat": 4,
  "nbformat_minor": 0,
  "metadata": {
    "kernelspec": {
      "display_name": "Python 3",
      "language": "python",
      "name": "python3"
    },
    "language_info": {
      "codemirror_mode": {
        "name": "ipython",
        "version": 3
      },
      "file_extension": ".py",
      "mimetype": "text/x-python",
      "name": "python",
      "nbconvert_exporter": "python",
      "pygments_lexer": "ipython3",
      "version": "3.7.3"
    },
    "colab": {
      "name": "Exercise_Pandas.ipynb",
      "provenance": [],
      "collapsed_sections": []
    }
  },
  "cells": [
    {
      "cell_type": "markdown",
      "metadata": {
        "id": "smQ_Rht_Sm7e",
        "colab_type": "text"
      },
      "source": [
        "## **TODO:** Set the value of `URL` to the URL from your learning materials"
      ]
    },
    {
      "cell_type": "code",
      "metadata": {
        "id": "HeWBWU5gSlzI",
        "colab_type": "code",
        "colab": {}
      },
      "source": [
        "URL = None\n",
        "import os\n",
        "assert URL and (type(URL) is str), \"Be sure to initialize URL using the value from your learning materials\"\n",
        "os.environ['URL'] = URL"
      ],
      "execution_count": 0,
      "outputs": []
    },
    {
      "cell_type": "code",
      "metadata": {
        "id": "__mhhmRtSz4N",
        "colab_type": "code",
        "colab": {}
      },
      "source": [
        "%%bash\n",
        "wget -q $URL -O ./data.zip\n",
        "mkdir -p data\n",
        "find *.zip | xargs unzip -o -d data/"
      ],
      "execution_count": 0,
      "outputs": []
    },
    {
      "cell_type": "markdown",
      "metadata": {
        "id": "F-jfOfrLSioV",
        "colab_type": "text"
      },
      "source": [
        "# Exercise: Pandas"
      ]
    },
    {
      "cell_type": "markdown",
      "metadata": {
        "id": "WwQZ24emSioW",
        "colab_type": "text"
      },
      "source": [
        "## To get started we'll need __`pandas`__"
      ]
    },
    {
      "cell_type": "code",
      "metadata": {
        "id": "zfpU_af3SioX",
        "colab_type": "code",
        "colab": {}
      },
      "source": [
        "import pandas as pd"
      ],
      "execution_count": 0,
      "outputs": []
    },
    {
      "cell_type": "markdown",
      "metadata": {
        "id": "JFOWW8QnSiob",
        "colab_type": "text"
      },
      "source": [
        "## Read the Consumer Complaints data file named __`data/Consumer_Complaints.csv`__ into a DataFrame"
      ]
    },
    {
      "cell_type": "code",
      "metadata": {
        "id": "PsDyKr5ESiob",
        "colab_type": "code",
        "colab": {}
      },
      "source": [
        ""
      ],
      "execution_count": 0,
      "outputs": []
    },
    {
      "cell_type": "markdown",
      "metadata": {
        "id": "adYQWvWNSioe",
        "colab_type": "text"
      },
      "source": [
        "## Determine the shape of the DataFrame"
      ]
    },
    {
      "cell_type": "code",
      "metadata": {
        "id": "v7lnLTgcSiof",
        "colab_type": "code",
        "colab": {}
      },
      "source": [
        ""
      ],
      "execution_count": 0,
      "outputs": []
    },
    {
      "cell_type": "markdown",
      "metadata": {
        "id": "8p86vNsbSioi",
        "colab_type": "text"
      },
      "source": [
        "## Investigate the first few rows of the DataFrame and find out what columns are present"
      ]
    },
    {
      "cell_type": "code",
      "metadata": {
        "id": "k1kvi5yxSioj",
        "colab_type": "code",
        "colab": {}
      },
      "source": [
        ""
      ],
      "execution_count": 0,
      "outputs": []
    },
    {
      "cell_type": "markdown",
      "metadata": {
        "id": "sPZnz8PgSiom",
        "colab_type": "text"
      },
      "source": [
        "## How many consumer complaints are there per state?"
      ]
    },
    {
      "cell_type": "code",
      "metadata": {
        "id": "_XOLmXK9Sion",
        "colab_type": "code",
        "colab": {}
      },
      "source": [
        ""
      ],
      "execution_count": 0,
      "outputs": []
    },
    {
      "cell_type": "markdown",
      "metadata": {
        "id": "R-5IKTSaSiop",
        "colab_type": "text"
      },
      "source": [
        "## Which ZIP code has the highest number of complaints?"
      ]
    },
    {
      "cell_type": "code",
      "metadata": {
        "id": "sahsBUzgSioq",
        "colab_type": "code",
        "colab": {}
      },
      "source": [
        ""
      ],
      "execution_count": 0,
      "outputs": []
    },
    {
      "cell_type": "markdown",
      "metadata": {
        "id": "Fw8yKRtYSiot",
        "colab_type": "text"
      },
      "source": [
        "## What are the top five products for complaints?"
      ]
    },
    {
      "cell_type": "code",
      "metadata": {
        "id": "RcgthO9cSiou",
        "colab_type": "code",
        "colab": {}
      },
      "source": [
        ""
      ],
      "execution_count": 0,
      "outputs": []
    },
    {
      "cell_type": "markdown",
      "metadata": {
        "id": "80IksyWxSiox",
        "colab_type": "text"
      },
      "source": [
        "## What are the top five states for consumer complaints?"
      ]
    },
    {
      "cell_type": "code",
      "metadata": {
        "id": "wVf5NPHYSioy",
        "colab_type": "code",
        "colab": {}
      },
      "source": [
        ""
      ],
      "execution_count": 0,
      "outputs": []
    },
    {
      "cell_type": "markdown",
      "metadata": {
        "id": "a9yyCFaVSio1",
        "colab_type": "text"
      },
      "source": [
        "## What is potentially misleading about these results? \n",
        "* We can solve this problem by normalizing the results against population data.\n",
        "* Our complaints database doesn't have this information though, so, let's read the information from the file __`data/states.csv`__ into a DataFrame"
      ]
    },
    {
      "cell_type": "code",
      "metadata": {
        "id": "ugKWvryISio1",
        "colab_type": "code",
        "colab": {}
      },
      "source": [
        ""
      ],
      "execution_count": 0,
      "outputs": []
    },
    {
      "cell_type": "markdown",
      "metadata": {
        "id": "lpCX5DBGSio5",
        "colab_type": "text"
      },
      "source": [
        "## Investigate the first few rows of the DataFrame"
      ]
    },
    {
      "cell_type": "code",
      "metadata": {
        "id": "DKiJ_uH-Sio5",
        "colab_type": "code",
        "colab": {}
      },
      "source": [
        ""
      ],
      "execution_count": 0,
      "outputs": []
    },
    {
      "cell_type": "markdown",
      "metadata": {
        "id": "tnKJ4qGFSio8",
        "colab_type": "text"
      },
      "source": [
        "## The __`Count`__ column is irrelevant, so...\n",
        "* Create a new DataFrame with only the __`Abbrev`__ and __`Population`__ columns"
      ]
    },
    {
      "cell_type": "code",
      "metadata": {
        "id": "OkAvNpjwSio8",
        "colab_type": "code",
        "colab": {}
      },
      "source": [
        ""
      ],
      "execution_count": 0,
      "outputs": []
    },
    {
      "cell_type": "markdown",
      "metadata": {
        "id": "Y7qjeuQBSio_",
        "colab_type": "text"
      },
      "source": [
        "## We're going to want to merge the DataFrames on the two-letter abbreviation\n",
        "* This is called __`State`__ in the first data set so make sure the second dataset has the right column names\n",
        "* Hint: check out the __`merge`__ function"
      ]
    },
    {
      "cell_type": "code",
      "metadata": {
        "id": "qJa16SypSio_",
        "colab_type": "code",
        "colab": {}
      },
      "source": [
        ""
      ],
      "execution_count": 0,
      "outputs": []
    },
    {
      "cell_type": "markdown",
      "metadata": {
        "id": "mxfo7ccGSipB",
        "colab_type": "text"
      },
      "source": [
        "## Generate a new DataFrame that contains the number of  complaints per state and keeps track of those counts"
      ]
    },
    {
      "cell_type": "code",
      "metadata": {
        "id": "haYzK4gKSipC",
        "colab_type": "code",
        "colab": {}
      },
      "source": [
        ""
      ],
      "execution_count": 0,
      "outputs": []
    },
    {
      "cell_type": "markdown",
      "metadata": {
        "id": "zbYR-j4qSipF",
        "colab_type": "text"
      },
      "source": [
        "## Merge the __`complaints_by_state`__ DataFrame and the states DataFrame on the __`State`__ column\n",
        "* Since there are U.S. territories in one of the datasets and not the other, we have some NaN results–get rid of those"
      ]
    },
    {
      "cell_type": "code",
      "metadata": {
        "id": "GOpVvPnhSipF",
        "colab_type": "code",
        "colab": {}
      },
      "source": [
        ""
      ],
      "execution_count": 0,
      "outputs": []
    },
    {
      "cell_type": "markdown",
      "metadata": {
        "id": "xIEk3FtQSipI",
        "colab_type": "text"
      },
      "source": [
        "## Inspect the first few rows to ensure it worked properly"
      ]
    },
    {
      "cell_type": "code",
      "metadata": {
        "id": "cW4wYN6cSipJ",
        "colab_type": "code",
        "colab": {}
      },
      "source": [
        ""
      ],
      "execution_count": 0,
      "outputs": []
    },
    {
      "cell_type": "markdown",
      "metadata": {
        "id": "daFJG4YLSipM",
        "colab_type": "text"
      },
      "source": [
        "## Normalize the Population\n",
        "1. Divide the counts column by the __`Population`__ \n",
        "* Store the result in a new columnn called 'population_normalized'"
      ]
    },
    {
      "cell_type": "code",
      "metadata": {
        "id": "owiNJZP8SipN",
        "colab_type": "code",
        "colab": {}
      },
      "source": [
        ""
      ],
      "execution_count": 0,
      "outputs": []
    },
    {
      "cell_type": "markdown",
      "metadata": {
        "id": "wgrLZm45SipP",
        "colab_type": "text"
      },
      "source": [
        "## Check out the first few rows of the data to make sure it looks like you expect"
      ]
    },
    {
      "cell_type": "code",
      "metadata": {
        "id": "QauDI31iSipP",
        "colab_type": "code",
        "colab": {}
      },
      "source": [
        ""
      ],
      "execution_count": 0,
      "outputs": []
    },
    {
      "cell_type": "markdown",
      "metadata": {
        "id": "V42_4_W8SipS",
        "colab_type": "text"
      },
      "source": [
        "## What are the top 10 states for complaints based upon raw counts?"
      ]
    },
    {
      "cell_type": "code",
      "metadata": {
        "id": "LyiIaVuySipS",
        "colab_type": "code",
        "colab": {}
      },
      "source": [
        ""
      ],
      "execution_count": 0,
      "outputs": []
    },
    {
      "cell_type": "markdown",
      "metadata": {
        "id": "j9RGG3WMSipU",
        "colab_type": "text"
      },
      "source": [
        "## What are the top 10 states for complaints normalized by population?"
      ]
    },
    {
      "cell_type": "code",
      "metadata": {
        "id": "cBh5UPT_SipV",
        "colab_type": "code",
        "colab": {}
      },
      "source": [
        ""
      ],
      "execution_count": 0,
      "outputs": []
    }
  ]
}